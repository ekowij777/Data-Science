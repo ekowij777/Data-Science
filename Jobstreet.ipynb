{
  "nbformat": 4,
  "nbformat_minor": 0,
  "metadata": {
    "colab": {
      "provenance": []
    },
    "kernelspec": {
      "name": "python3",
      "display_name": "Python 3"
    },
    "language_info": {
      "name": "python"
    }
  },
  "cells": [
    {
      "cell_type": "code",
      "execution_count": 1,
      "metadata": {
        "colab": {
          "base_uri": "https://localhost:8080/"
        },
        "id": "LnZIzQ3HeVnv",
        "outputId": "0abb5b6c-884f-4ace-9172-9b0b48149be8"
      },
      "outputs": [
        {
          "output_type": "stream",
          "name": "stdout",
          "text": [
            "Collecting pyspark\n",
            "  Downloading pyspark-3.5.0.tar.gz (316.9 MB)\n",
            "\u001b[2K     \u001b[90m━━━━━━━━━━━━━━━━━━━━━━━━━━━━━━━━━━━━━━━━\u001b[0m \u001b[32m316.9/316.9 MB\u001b[0m \u001b[31m2.6 MB/s\u001b[0m eta \u001b[36m0:00:00\u001b[0m\n",
            "\u001b[?25h  Preparing metadata (setup.py) ... \u001b[?25l\u001b[?25hdone\n",
            "Requirement already satisfied: py4j==0.10.9.7 in /usr/local/lib/python3.10/dist-packages (from pyspark) (0.10.9.7)\n",
            "Building wheels for collected packages: pyspark\n",
            "  Building wheel for pyspark (setup.py) ... \u001b[?25l\u001b[?25hdone\n",
            "  Created wheel for pyspark: filename=pyspark-3.5.0-py2.py3-none-any.whl size=317425345 sha256=d152b0496c997fe5c240ca04a2415d3da18aa3ffe717ab4b7b7940cc527de8b4\n",
            "  Stored in directory: /root/.cache/pip/wheels/41/4e/10/c2cf2467f71c678cfc8a6b9ac9241e5e44a01940da8fbb17fc\n",
            "Successfully built pyspark\n",
            "Installing collected packages: pyspark\n",
            "Successfully installed pyspark-3.5.0\n"
          ]
        }
      ],
      "source": [
        "pip install pyspark"
      ]
    },
    {
      "cell_type": "code",
      "source": [
        "pip install findspark"
      ],
      "metadata": {
        "colab": {
          "base_uri": "https://localhost:8080/"
        },
        "id": "kUooZjbPfDnh",
        "outputId": "5d9bb7a1-c48f-47e8-8ccd-14cb900e8b5a"
      },
      "execution_count": 2,
      "outputs": [
        {
          "output_type": "stream",
          "name": "stdout",
          "text": [
            "Collecting findspark\n",
            "  Downloading findspark-2.0.1-py2.py3-none-any.whl (4.4 kB)\n",
            "Installing collected packages: findspark\n",
            "Successfully installed findspark-2.0.1\n"
          ]
        }
      ]
    },
    {
      "cell_type": "code",
      "source": [
        "import os\n",
        "import warnings\n",
        "warnings.filterwarnings('ignore')\n",
        "from pyspark.sql import SparkSession\n",
        "from pyspark.sql.types import StructField, StructType, StringType, IntegerType, FloatType\n",
        "from pyspark.sql.functions import split, count, when, isnan, col, regexp_replace\n",
        "from pyspark.ml.regression import LinearRegression\n",
        "from pyspark.ml.feature import OneHotEncoder, StringIndexer\n",
        "from pyspark.ml.linalg import Vectors\n",
        "from pyspark.ml.feature import VectorAssembler"
      ],
      "metadata": {
        "id": "xY-0WAgnfYKt"
      },
      "execution_count": 22,
      "outputs": []
    },
    {
      "cell_type": "code",
      "source": [
        "spark = SparkSession.builder.appName('First Session').getOrCreate()\n",
        "\n",
        "print('Spark Version: {}'.format(spark.version))"
      ],
      "metadata": {
        "colab": {
          "base_uri": "https://localhost:8080/"
        },
        "id": "-ml5seuffmxp",
        "outputId": "82706c48-5bd2-4c4f-f11b-0986c01b589f"
      },
      "execution_count": 23,
      "outputs": [
        {
          "output_type": "stream",
          "name": "stdout",
          "text": [
            "Spark Version: 3.5.0\n"
          ]
        }
      ]
    },
    {
      "cell_type": "code",
      "source": [
        "schema = StructType([StructField('Jabatan', StringType(), nullable = True),\n",
        "                     StructField('Perusahaan', StringType(), nullable = True),\n",
        "                     StructField('Alamat', StringType(), nullable = True),\n",
        "                     StructField('Gaji', StringType(), nullable = True),\n",
        "                     StructField('Kategori', StringType(), nullable = True)])\n",
        "file_path = 'jobstreet.csv'\n",
        "\n",
        "df = spark.read.csv(file_path,\n",
        "                    header = True,\n",
        "                    inferSchema = True,\n",
        "                    nanValue = '?')\n",
        "\n",
        "df.show(5)"
      ],
      "metadata": {
        "colab": {
          "base_uri": "https://localhost:8080/"
        },
        "id": "88wVZzWFfrYt",
        "outputId": "a5f6952d-36b0-421a-8b07-b644f241e54c"
      },
      "execution_count": 29,
      "outputs": [
        {
          "output_type": "stream",
          "name": "stdout",
          "text": [
            "+--------------------+--------------------+--------------------+--------------------+--------------------+\n",
            "|             Jabatan|          Perusahaan|              Alamat|                Gaji|            Kategori|\n",
            "+--------------------+--------------------+--------------------+--------------------+--------------------+\n",
            "|Fullstack Develop...|PT Karisma Zona K...|Jakarta Selatan, ...|Rp 10,000,000 – R...|subClassification...|\n",
            "|Admin Sales & Mar...|    PT Bimaruna Jaya|Jakarta Selatan, ...|                NULL|subClassification...|\n",
            "|Microsoft Dynamic...|PT SAGLOBAL INDON...|Jakarta Barat, Ja...|                NULL|subClassification...|\n",
            "|Personal Assistan...|PT Crypto Canary ...| Tebet, Jakarta Raya|Rp 6,500,000 – Rp...|subClassification...|\n",
            "|  Back End Developer|      PT Star Cosmos|Jakarta Barat, Ja...|                NULL|subClassification...|\n",
            "+--------------------+--------------------+--------------------+--------------------+--------------------+\n",
            "only showing top 5 rows\n",
            "\n"
          ]
        }
      ]
    },
    {
      "cell_type": "code",
      "source": [
        "def check_missing(dataframe):\n",
        "\n",
        "    return dataframe.select([count(when(isnan(c) | col(c).isNull(), c)). \\\n",
        "                             alias(c) for c in dataframe.columns]).show()\n",
        "\n",
        "check_missing(df)"
      ],
      "metadata": {
        "colab": {
          "base_uri": "https://localhost:8080/"
        },
        "id": "AYO9dj1kg6b0",
        "outputId": "5c032655-3474-4820-f052-02560548b803"
      },
      "execution_count": 30,
      "outputs": [
        {
          "output_type": "stream",
          "name": "stdout",
          "text": [
            "+-------+----------+------+----+--------+\n",
            "|Jabatan|Perusahaan|Alamat|Gaji|Kategori|\n",
            "+-------+----------+------+----+--------+\n",
            "|      0|        38|     0| 749|       0|\n",
            "+-------+----------+------+----+--------+\n",
            "\n"
          ]
        }
      ]
    },
    {
      "cell_type": "code",
      "source": [
        "df = df.na.drop()\n",
        "\n",
        "df = df.withColumn(\"Perusahaan\", df[\"Perusahaan\"].cast(StringType()))\n",
        "\n",
        "df.show(5)"
      ],
      "metadata": {
        "colab": {
          "base_uri": "https://localhost:8080/"
        },
        "id": "3wlQ6M-OmMw6",
        "outputId": "b78c4d71-88f1-46b9-82cc-96dadc2f2dfb"
      },
      "execution_count": 31,
      "outputs": [
        {
          "output_type": "stream",
          "name": "stdout",
          "text": [
            "+--------------------+--------------------+--------------------+--------------------+--------------------+\n",
            "|             Jabatan|          Perusahaan|              Alamat|                Gaji|            Kategori|\n",
            "+--------------------+--------------------+--------------------+--------------------+--------------------+\n",
            "|Fullstack Develop...|PT Karisma Zona K...|Jakarta Selatan, ...|Rp 10,000,000 – R...|subClassification...|\n",
            "|Personal Assistan...|PT Crypto Canary ...| Tebet, Jakarta Raya|Rp 6,500,000 – Rp...|subClassification...|\n",
            "|Project Secretary...|PT Harrisma Infor...|Jakarta Barat, Ja...|Rp 14,000,000 – R...|subClassification...|\n",
            "|   Staf Admin Gudang|PT.SUNGAI PANJANG...|Cikarang Utara, J...|Rp 3.500.000 – Rp...|subClassification...|\n",
            "|          Programmer|PT Microvac Indon...|Jakarta Timur, Ja...|Rp 5,500,000 – Rp...|subClassification...|\n",
            "+--------------------+--------------------+--------------------+--------------------+--------------------+\n",
            "only showing top 5 rows\n",
            "\n"
          ]
        }
      ]
    },
    {
      "cell_type": "code",
      "source": [
        "df = df.na.drop()\n",
        "\n",
        "df = df.withColumn(\"Gaji\", df[\"Gaji\"].cast(StringType()))\n",
        "\n",
        "df.show(5)"
      ],
      "metadata": {
        "colab": {
          "base_uri": "https://localhost:8080/"
        },
        "id": "4w4lDYs2mYgV",
        "outputId": "07e026b1-4ab5-4d27-c6ae-2f369f653ccc"
      },
      "execution_count": 32,
      "outputs": [
        {
          "output_type": "stream",
          "name": "stdout",
          "text": [
            "+--------------------+--------------------+--------------------+--------------------+--------------------+\n",
            "|             Jabatan|          Perusahaan|              Alamat|                Gaji|            Kategori|\n",
            "+--------------------+--------------------+--------------------+--------------------+--------------------+\n",
            "|Fullstack Develop...|PT Karisma Zona K...|Jakarta Selatan, ...|Rp 10,000,000 – R...|subClassification...|\n",
            "|Personal Assistan...|PT Crypto Canary ...| Tebet, Jakarta Raya|Rp 6,500,000 – Rp...|subClassification...|\n",
            "|Project Secretary...|PT Harrisma Infor...|Jakarta Barat, Ja...|Rp 14,000,000 – R...|subClassification...|\n",
            "|   Staf Admin Gudang|PT.SUNGAI PANJANG...|Cikarang Utara, J...|Rp 3.500.000 – Rp...|subClassification...|\n",
            "|          Programmer|PT Microvac Indon...|Jakarta Timur, Ja...|Rp 5,500,000 – Rp...|subClassification...|\n",
            "+--------------------+--------------------+--------------------+--------------------+--------------------+\n",
            "only showing top 5 rows\n",
            "\n"
          ]
        }
      ]
    },
    {
      "cell_type": "code",
      "source": [
        "df.columns"
      ],
      "metadata": {
        "colab": {
          "base_uri": "https://localhost:8080/"
        },
        "id": "noF0soOiopXj",
        "outputId": "5fb7381c-ec9b-4522-e562-ef84ca1bb47f"
      },
      "execution_count": 33,
      "outputs": [
        {
          "output_type": "execute_result",
          "data": {
            "text/plain": [
              "['Jabatan', 'Perusahaan', 'Alamat', 'Gaji', 'Kategori']"
            ]
          },
          "metadata": {},
          "execution_count": 33
        }
      ]
    },
    {
      "cell_type": "code",
      "source": [
        "df.toPandas().head()"
      ],
      "metadata": {
        "colab": {
          "base_uri": "https://localhost:8080/",
          "height": 293
        },
        "id": "0DQ1_4ujo3CA",
        "outputId": "07fe0dce-a35d-42cb-f892-ccd3d8231ac5"
      },
      "execution_count": 34,
      "outputs": [
        {
          "output_type": "execute_result",
          "data": {
            "text/plain": [
              "                                 Jabatan                    Perusahaan  \\\n",
              "0  Fullstack Developer (.Net + react.js)     PT Karisma Zona Kreatifku   \n",
              "1          Personal Assistant to the CEO      PT Crypto Canary Network   \n",
              "2   Project Secretary - Mandarin Speaker  PT Harrisma Informatika Jaya   \n",
              "3                      Staf Admin Gudang      PT.SUNGAI PANJANG ADAMAS   \n",
              "4                             Programmer         PT Microvac Indonesia   \n",
              "\n",
              "                          Alamat                                     Gaji  \\\n",
              "0  Jakarta Selatan, Jakarta Raya  Rp 10,000,000 – Rp 12,000,000 per month   \n",
              "1            Tebet, Jakarta Raya    Rp 6,500,000 – Rp 8,000,000 per month   \n",
              "2    Jakarta Barat, Jakarta Raya  Rp 14,000,000 – Rp 20,000,000 per month   \n",
              "3     Cikarang Utara, Jawa Barat    Rp 3.500.000 – Rp 4.500.000 per month   \n",
              "4    Jakarta Timur, Jakarta Raya    Rp 5,500,000 – Rp 8,000,000 per month   \n",
              "\n",
              "                                            Kategori  \n",
              "0  subClassification: Developer/ProgrammerDevelop...  \n",
              "1  subClassification: Asisten Pribadi, Asisten Ek...  \n",
              "2  subClassification: Asisten Pribadi, Asisten Ek...  \n",
              "3  subClassification: Entri Data & Pengolahan Kat...  \n",
              "4  subClassification: Developer/ProgrammerDevelop...  "
            ],
            "text/html": [
              "\n",
              "  <div id=\"df-fc43bffe-3581-4790-baeb-ac11cb0f75e4\" class=\"colab-df-container\">\n",
              "    <div>\n",
              "<style scoped>\n",
              "    .dataframe tbody tr th:only-of-type {\n",
              "        vertical-align: middle;\n",
              "    }\n",
              "\n",
              "    .dataframe tbody tr th {\n",
              "        vertical-align: top;\n",
              "    }\n",
              "\n",
              "    .dataframe thead th {\n",
              "        text-align: right;\n",
              "    }\n",
              "</style>\n",
              "<table border=\"1\" class=\"dataframe\">\n",
              "  <thead>\n",
              "    <tr style=\"text-align: right;\">\n",
              "      <th></th>\n",
              "      <th>Jabatan</th>\n",
              "      <th>Perusahaan</th>\n",
              "      <th>Alamat</th>\n",
              "      <th>Gaji</th>\n",
              "      <th>Kategori</th>\n",
              "    </tr>\n",
              "  </thead>\n",
              "  <tbody>\n",
              "    <tr>\n",
              "      <th>0</th>\n",
              "      <td>Fullstack Developer (.Net + react.js)</td>\n",
              "      <td>PT Karisma Zona Kreatifku</td>\n",
              "      <td>Jakarta Selatan, Jakarta Raya</td>\n",
              "      <td>Rp 10,000,000 – Rp 12,000,000 per month</td>\n",
              "      <td>subClassification: Developer/ProgrammerDevelop...</td>\n",
              "    </tr>\n",
              "    <tr>\n",
              "      <th>1</th>\n",
              "      <td>Personal Assistant to the CEO</td>\n",
              "      <td>PT Crypto Canary Network</td>\n",
              "      <td>Tebet, Jakarta Raya</td>\n",
              "      <td>Rp 6,500,000 – Rp 8,000,000 per month</td>\n",
              "      <td>subClassification: Asisten Pribadi, Asisten Ek...</td>\n",
              "    </tr>\n",
              "    <tr>\n",
              "      <th>2</th>\n",
              "      <td>Project Secretary - Mandarin Speaker</td>\n",
              "      <td>PT Harrisma Informatika Jaya</td>\n",
              "      <td>Jakarta Barat, Jakarta Raya</td>\n",
              "      <td>Rp 14,000,000 – Rp 20,000,000 per month</td>\n",
              "      <td>subClassification: Asisten Pribadi, Asisten Ek...</td>\n",
              "    </tr>\n",
              "    <tr>\n",
              "      <th>3</th>\n",
              "      <td>Staf Admin Gudang</td>\n",
              "      <td>PT.SUNGAI PANJANG ADAMAS</td>\n",
              "      <td>Cikarang Utara, Jawa Barat</td>\n",
              "      <td>Rp 3.500.000 – Rp 4.500.000 per month</td>\n",
              "      <td>subClassification: Entri Data &amp; Pengolahan Kat...</td>\n",
              "    </tr>\n",
              "    <tr>\n",
              "      <th>4</th>\n",
              "      <td>Programmer</td>\n",
              "      <td>PT Microvac Indonesia</td>\n",
              "      <td>Jakarta Timur, Jakarta Raya</td>\n",
              "      <td>Rp 5,500,000 – Rp 8,000,000 per month</td>\n",
              "      <td>subClassification: Developer/ProgrammerDevelop...</td>\n",
              "    </tr>\n",
              "  </tbody>\n",
              "</table>\n",
              "</div>\n",
              "    <div class=\"colab-df-buttons\">\n",
              "\n",
              "  <div class=\"colab-df-container\">\n",
              "    <button class=\"colab-df-convert\" onclick=\"convertToInteractive('df-fc43bffe-3581-4790-baeb-ac11cb0f75e4')\"\n",
              "            title=\"Convert this dataframe to an interactive table.\"\n",
              "            style=\"display:none;\">\n",
              "\n",
              "  <svg xmlns=\"http://www.w3.org/2000/svg\" height=\"24px\" viewBox=\"0 -960 960 960\">\n",
              "    <path d=\"M120-120v-720h720v720H120Zm60-500h600v-160H180v160Zm220 220h160v-160H400v160Zm0 220h160v-160H400v160ZM180-400h160v-160H180v160Zm440 0h160v-160H620v160ZM180-180h160v-160H180v160Zm440 0h160v-160H620v160Z\"/>\n",
              "  </svg>\n",
              "    </button>\n",
              "\n",
              "  <style>\n",
              "    .colab-df-container {\n",
              "      display:flex;\n",
              "      gap: 12px;\n",
              "    }\n",
              "\n",
              "    .colab-df-convert {\n",
              "      background-color: #E8F0FE;\n",
              "      border: none;\n",
              "      border-radius: 50%;\n",
              "      cursor: pointer;\n",
              "      display: none;\n",
              "      fill: #1967D2;\n",
              "      height: 32px;\n",
              "      padding: 0 0 0 0;\n",
              "      width: 32px;\n",
              "    }\n",
              "\n",
              "    .colab-df-convert:hover {\n",
              "      background-color: #E2EBFA;\n",
              "      box-shadow: 0px 1px 2px rgba(60, 64, 67, 0.3), 0px 1px 3px 1px rgba(60, 64, 67, 0.15);\n",
              "      fill: #174EA6;\n",
              "    }\n",
              "\n",
              "    .colab-df-buttons div {\n",
              "      margin-bottom: 4px;\n",
              "    }\n",
              "\n",
              "    [theme=dark] .colab-df-convert {\n",
              "      background-color: #3B4455;\n",
              "      fill: #D2E3FC;\n",
              "    }\n",
              "\n",
              "    [theme=dark] .colab-df-convert:hover {\n",
              "      background-color: #434B5C;\n",
              "      box-shadow: 0px 1px 3px 1px rgba(0, 0, 0, 0.15);\n",
              "      filter: drop-shadow(0px 1px 2px rgba(0, 0, 0, 0.3));\n",
              "      fill: #FFFFFF;\n",
              "    }\n",
              "  </style>\n",
              "\n",
              "    <script>\n",
              "      const buttonEl =\n",
              "        document.querySelector('#df-fc43bffe-3581-4790-baeb-ac11cb0f75e4 button.colab-df-convert');\n",
              "      buttonEl.style.display =\n",
              "        google.colab.kernel.accessAllowed ? 'block' : 'none';\n",
              "\n",
              "      async function convertToInteractive(key) {\n",
              "        const element = document.querySelector('#df-fc43bffe-3581-4790-baeb-ac11cb0f75e4');\n",
              "        const dataTable =\n",
              "          await google.colab.kernel.invokeFunction('convertToInteractive',\n",
              "                                                    [key], {});\n",
              "        if (!dataTable) return;\n",
              "\n",
              "        const docLinkHtml = 'Like what you see? Visit the ' +\n",
              "          '<a target=\"_blank\" href=https://colab.research.google.com/notebooks/data_table.ipynb>data table notebook</a>'\n",
              "          + ' to learn more about interactive tables.';\n",
              "        element.innerHTML = '';\n",
              "        dataTable['output_type'] = 'display_data';\n",
              "        await google.colab.output.renderOutput(dataTable, element);\n",
              "        const docLink = document.createElement('div');\n",
              "        docLink.innerHTML = docLinkHtml;\n",
              "        element.appendChild(docLink);\n",
              "      }\n",
              "    </script>\n",
              "  </div>\n",
              "\n",
              "\n",
              "<div id=\"df-544b27a1-b265-429a-9f02-54c09202a8f8\">\n",
              "  <button class=\"colab-df-quickchart\" onclick=\"quickchart('df-544b27a1-b265-429a-9f02-54c09202a8f8')\"\n",
              "            title=\"Suggest charts\"\n",
              "            style=\"display:none;\">\n",
              "\n",
              "<svg xmlns=\"http://www.w3.org/2000/svg\" height=\"24px\"viewBox=\"0 0 24 24\"\n",
              "     width=\"24px\">\n",
              "    <g>\n",
              "        <path d=\"M19 3H5c-1.1 0-2 .9-2 2v14c0 1.1.9 2 2 2h14c1.1 0 2-.9 2-2V5c0-1.1-.9-2-2-2zM9 17H7v-7h2v7zm4 0h-2V7h2v10zm4 0h-2v-4h2v4z\"/>\n",
              "    </g>\n",
              "</svg>\n",
              "  </button>\n",
              "\n",
              "<style>\n",
              "  .colab-df-quickchart {\n",
              "      --bg-color: #E8F0FE;\n",
              "      --fill-color: #1967D2;\n",
              "      --hover-bg-color: #E2EBFA;\n",
              "      --hover-fill-color: #174EA6;\n",
              "      --disabled-fill-color: #AAA;\n",
              "      --disabled-bg-color: #DDD;\n",
              "  }\n",
              "\n",
              "  [theme=dark] .colab-df-quickchart {\n",
              "      --bg-color: #3B4455;\n",
              "      --fill-color: #D2E3FC;\n",
              "      --hover-bg-color: #434B5C;\n",
              "      --hover-fill-color: #FFFFFF;\n",
              "      --disabled-bg-color: #3B4455;\n",
              "      --disabled-fill-color: #666;\n",
              "  }\n",
              "\n",
              "  .colab-df-quickchart {\n",
              "    background-color: var(--bg-color);\n",
              "    border: none;\n",
              "    border-radius: 50%;\n",
              "    cursor: pointer;\n",
              "    display: none;\n",
              "    fill: var(--fill-color);\n",
              "    height: 32px;\n",
              "    padding: 0;\n",
              "    width: 32px;\n",
              "  }\n",
              "\n",
              "  .colab-df-quickchart:hover {\n",
              "    background-color: var(--hover-bg-color);\n",
              "    box-shadow: 0 1px 2px rgba(60, 64, 67, 0.3), 0 1px 3px 1px rgba(60, 64, 67, 0.15);\n",
              "    fill: var(--button-hover-fill-color);\n",
              "  }\n",
              "\n",
              "  .colab-df-quickchart-complete:disabled,\n",
              "  .colab-df-quickchart-complete:disabled:hover {\n",
              "    background-color: var(--disabled-bg-color);\n",
              "    fill: var(--disabled-fill-color);\n",
              "    box-shadow: none;\n",
              "  }\n",
              "\n",
              "  .colab-df-spinner {\n",
              "    border: 2px solid var(--fill-color);\n",
              "    border-color: transparent;\n",
              "    border-bottom-color: var(--fill-color);\n",
              "    animation:\n",
              "      spin 1s steps(1) infinite;\n",
              "  }\n",
              "\n",
              "  @keyframes spin {\n",
              "    0% {\n",
              "      border-color: transparent;\n",
              "      border-bottom-color: var(--fill-color);\n",
              "      border-left-color: var(--fill-color);\n",
              "    }\n",
              "    20% {\n",
              "      border-color: transparent;\n",
              "      border-left-color: var(--fill-color);\n",
              "      border-top-color: var(--fill-color);\n",
              "    }\n",
              "    30% {\n",
              "      border-color: transparent;\n",
              "      border-left-color: var(--fill-color);\n",
              "      border-top-color: var(--fill-color);\n",
              "      border-right-color: var(--fill-color);\n",
              "    }\n",
              "    40% {\n",
              "      border-color: transparent;\n",
              "      border-right-color: var(--fill-color);\n",
              "      border-top-color: var(--fill-color);\n",
              "    }\n",
              "    60% {\n",
              "      border-color: transparent;\n",
              "      border-right-color: var(--fill-color);\n",
              "    }\n",
              "    80% {\n",
              "      border-color: transparent;\n",
              "      border-right-color: var(--fill-color);\n",
              "      border-bottom-color: var(--fill-color);\n",
              "    }\n",
              "    90% {\n",
              "      border-color: transparent;\n",
              "      border-bottom-color: var(--fill-color);\n",
              "    }\n",
              "  }\n",
              "</style>\n",
              "\n",
              "  <script>\n",
              "    async function quickchart(key) {\n",
              "      const quickchartButtonEl =\n",
              "        document.querySelector('#' + key + ' button');\n",
              "      quickchartButtonEl.disabled = true;  // To prevent multiple clicks.\n",
              "      quickchartButtonEl.classList.add('colab-df-spinner');\n",
              "      try {\n",
              "        const charts = await google.colab.kernel.invokeFunction(\n",
              "            'suggestCharts', [key], {});\n",
              "      } catch (error) {\n",
              "        console.error('Error during call to suggestCharts:', error);\n",
              "      }\n",
              "      quickchartButtonEl.classList.remove('colab-df-spinner');\n",
              "      quickchartButtonEl.classList.add('colab-df-quickchart-complete');\n",
              "    }\n",
              "    (() => {\n",
              "      let quickchartButtonEl =\n",
              "        document.querySelector('#df-544b27a1-b265-429a-9f02-54c09202a8f8 button');\n",
              "      quickchartButtonEl.style.display =\n",
              "        google.colab.kernel.accessAllowed ? 'block' : 'none';\n",
              "    })();\n",
              "  </script>\n",
              "</div>\n",
              "    </div>\n",
              "  </div>\n"
            ]
          },
          "metadata": {},
          "execution_count": 34
        }
      ]
    },
    {
      "cell_type": "code",
      "source": [
        "df.printSchema()"
      ],
      "metadata": {
        "colab": {
          "base_uri": "https://localhost:8080/"
        },
        "id": "Ri0h0f58pBwY",
        "outputId": "61a2d833-ade9-43b0-e955-3d41570810ea"
      },
      "execution_count": 35,
      "outputs": [
        {
          "output_type": "stream",
          "name": "stdout",
          "text": [
            "root\n",
            " |-- Jabatan: string (nullable = true)\n",
            " |-- Perusahaan: string (nullable = true)\n",
            " |-- Alamat: string (nullable = true)\n",
            " |-- Gaji: string (nullable = true)\n",
            " |-- Kategori: string (nullable = true)\n",
            "\n"
          ]
        }
      ]
    },
    {
      "cell_type": "code",
      "source": [
        "for jobs in df.head(5):\n",
        "    print(jobs, '\\n')"
      ],
      "metadata": {
        "colab": {
          "base_uri": "https://localhost:8080/"
        },
        "id": "VmRh3mhHpGy_",
        "outputId": "5763754a-0888-4c70-d956-94fd5655cfd0"
      },
      "execution_count": 37,
      "outputs": [
        {
          "output_type": "stream",
          "name": "stdout",
          "text": [
            "Row(Jabatan='Fullstack Developer (.Net + react.js)', Perusahaan='PT Karisma Zona Kreatifku', Alamat='Jakarta Selatan, Jakarta Raya', Gaji='Rp\\xa010,000,000 – Rp\\xa012,000,000 per month', Kategori='subClassification: Developer/ProgrammerDeveloper/Programmerclassification: Teknologi Informasi & Komunikasi(Teknologi Informasi & Komunikasi)') \n",
            "\n",
            "Row(Jabatan='Personal Assistant to the CEO', Perusahaan='PT Crypto Canary Network', Alamat='Tebet, Jakarta Raya', Gaji='Rp\\xa06,500,000 – Rp\\xa08,000,000 per month', Kategori='subClassification: Asisten Pribadi, Asisten Eksekutif & SekretarialAsisten Pribadi, Asisten Eksekutif & Sekretarialclassification: Administrasi & Dukungan Perkantoran(Administrasi & Dukungan Perkantoran)') \n",
            "\n",
            "Row(Jabatan='Project Secretary - Mandarin Speaker', Perusahaan='PT Harrisma Informatika Jaya', Alamat='Jakarta Barat, Jakarta Raya', Gaji='Rp\\xa014,000,000 – Rp\\xa020,000,000 per month', Kategori='subClassification: Asisten Pribadi, Asisten Eksekutif & SekretarialAsisten Pribadi, Asisten Eksekutif & Sekretarialclassification: Administrasi & Dukungan Perkantoran(Administrasi & Dukungan Perkantoran)') \n",
            "\n",
            "Row(Jabatan='Staf Admin Gudang', Perusahaan='PT.SUNGAI PANJANG ADAMAS', Alamat='Cikarang Utara, Jawa Barat', Gaji='Rp\\xa03.500.000 – Rp\\xa04.500.000 per month', Kategori='subClassification: Entri Data & Pengolahan KataEntri Data & Pengolahan Kataclassification: Administrasi & Dukungan Perkantoran(Administrasi & Dukungan Perkantoran)') \n",
            "\n",
            "Row(Jabatan='Programmer', Perusahaan='PT Microvac Indonesia', Alamat='Jakarta Timur, Jakarta Raya', Gaji='Rp\\xa05,500,000 – Rp\\xa08,000,000 per month', Kategori='subClassification: Developer/ProgrammerDeveloper/Programmerclassification: Teknologi Informasi & Komunikasi(Teknologi Informasi & Komunikasi)') \n",
            "\n"
          ]
        }
      ]
    },
    {
      "cell_type": "code",
      "source": [
        "df.describe().show()"
      ],
      "metadata": {
        "colab": {
          "base_uri": "https://localhost:8080/"
        },
        "id": "w0vLoNB4pcsf",
        "outputId": "ff18fd39-f497-4f22-f51b-765d3832e478"
      },
      "execution_count": 38,
      "outputs": [
        {
          "output_type": "stream",
          "name": "stdout",
          "text": [
            "+-------+--------+--------------------+--------------------+--------------------+--------------------+\n",
            "|summary| Jabatan|          Perusahaan|              Alamat|                Gaji|            Kategori|\n",
            "+-------+--------+--------------------+--------------------+--------------------+--------------------+\n",
            "|  count|     357|                 357|                 357|                 357|                 357|\n",
            "|   mean|    NULL|                NULL|                NULL|                NULL|                NULL|\n",
            "| stddev|    NULL|                NULL|                NULL|                NULL|                NULL|\n",
            "|    min|   ADMIN|Anugerah Dutanusa...|Bekasi Selatan, J...|IDR 4,000,000 - 4...|subClassification...|\n",
            "|    max|中文助理|           rootcloud|   Teluknaga, Banten|Rp 9.000.000 – Rp...|subClassification...|\n",
            "+-------+--------+--------------------+--------------------+--------------------+--------------------+\n",
            "\n"
          ]
        }
      ]
    },
    {
      "cell_type": "code",
      "source": [
        "df.describe(['Perusahaan', 'Gaji']).show()"
      ],
      "metadata": {
        "colab": {
          "base_uri": "https://localhost:8080/"
        },
        "id": "uFDvP6ZIpll6",
        "outputId": "78dd2306-2beb-4bb9-af43-83220ec903ba"
      },
      "execution_count": 39,
      "outputs": [
        {
          "output_type": "stream",
          "name": "stdout",
          "text": [
            "+-------+--------------------+--------------------+\n",
            "|summary|          Perusahaan|                Gaji|\n",
            "+-------+--------------------+--------------------+\n",
            "|  count|                 357|                 357|\n",
            "|   mean|                NULL|                NULL|\n",
            "| stddev|                NULL|                NULL|\n",
            "|    min|Anugerah Dutanusa...|IDR 4,000,000 - 4...|\n",
            "|    max|           rootcloud|Rp 9.000.000 – Rp...|\n",
            "+-------+--------------------+--------------------+\n",
            "\n"
          ]
        }
      ]
    },
    {
      "cell_type": "code",
      "source": [
        "def get_num_cols(dataframe):\n",
        "\n",
        "    num_cols = [col for col in dataframe.columns if dataframe.select(col). \\\n",
        "                dtypes[0][1] in ['double', 'int']]\n",
        "\n",
        "    return num_cols\n",
        "\n",
        "num_cols = get_num_cols(df)\n",
        "\n",
        "df.describe(num_cols).show()"
      ],
      "metadata": {
        "colab": {
          "base_uri": "https://localhost:8080/"
        },
        "id": "xZs4K1C2qBtX",
        "outputId": "55e3921a-4ebf-48ec-8ff1-63b4a6a8d8bb"
      },
      "execution_count": 40,
      "outputs": [
        {
          "output_type": "stream",
          "name": "stdout",
          "text": [
            "+-------+--------+--------------------+--------------------+--------------------+--------------------+\n",
            "|summary| Jabatan|          Perusahaan|              Alamat|                Gaji|            Kategori|\n",
            "+-------+--------+--------------------+--------------------+--------------------+--------------------+\n",
            "|  count|     357|                 357|                 357|                 357|                 357|\n",
            "|   mean|    NULL|                NULL|                NULL|                NULL|                NULL|\n",
            "| stddev|    NULL|                NULL|                NULL|                NULL|                NULL|\n",
            "|    min|   ADMIN|Anugerah Dutanusa...|Bekasi Selatan, J...|IDR 4,000,000 - 4...|subClassification...|\n",
            "|    max|中文助理|           rootcloud|   Teluknaga, Banten|Rp 9.000.000 – Rp...|subClassification...|\n",
            "+-------+--------+--------------------+--------------------+--------------------+--------------------+\n",
            "\n"
          ]
        }
      ]
    }
  ]
}